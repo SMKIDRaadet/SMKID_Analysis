{
  "nbformat": 4,
  "nbformat_minor": 0,
  "metadata": {
    "colab": {
      "name": "SMKID Deltagere.ipynb",
      "provenance": [],
      "toc_visible": true,
      "authorship_tag": "ABX9TyMo7lCEtm1lNgGGjffWSGTk",
      "include_colab_link": true
    },
    "kernelspec": {
      "name": "python3",
      "display_name": "Python 3"
    }
  },
  "cells": [
    {
      "cell_type": "markdown",
      "metadata": {
        "id": "view-in-github",
        "colab_type": "text"
      },
      "source": [
        "<a href=\"https://colab.research.google.com/github/SMKIDRaadet/SMKID_Analysis/blob/main/SMKID_Deltagere.ipynb\" target=\"_parent\"><img src=\"https://colab.research.google.com/assets/colab-badge.svg\" alt=\"Open In Colab\"/></a>"
      ]
    },
    {
      "cell_type": "markdown",
      "metadata": {
        "id": "rdcGI0r2J7sL"
      },
      "source": [
        "#En undersøgelse af deltagere til S/M-KID Rådsmøder i tidens løb."
      ]
    },
    {
      "cell_type": "code",
      "metadata": {
        "id": "j6q4uwQYJjIW",
        "outputId": "13a7162e-5f3e-4362-8667-ea0eaf3eb7bb",
        "colab": {
          "base_uri": "https://localhost:8080/",
          "height": 158
        }
      },
      "source": [
        "import pandas as pd\n",
        "import numpy as np\n",
        "import os\n",
        "\n",
        "from google.colab import drive\n",
        "drive.mount('/content/drive')\n",
        "\n",
        "from google.colab import auth\n",
        "auth.authenticate_user()\n",
        "\n",
        "import gspread\n",
        "from oauth2client.client import GoogleCredentials\n",
        "\n",
        "gc = gspread.authorize(GoogleCredentials.get_application_default())\n",
        "\n",
        "if 'S M-KID Rådet' not in os.listdir('/content/drive/My Drive/'):\n",
        "  raise ValueError('S/M-KID Rådets folder not in your Google Drive.')"
      ],
      "execution_count": null,
      "outputs": [
        {
          "output_type": "stream",
          "text": [
            "Mounted at /content/drive\n"
          ],
          "name": "stdout"
        }
      ]
    },
    {
      "cell_type": "code",
      "metadata": {
        "id": "zAfAfu1iLTSp"
      },
      "source": [
        "#URLS\n",
        "deltagerlister = {'15/11/2016' : 'https://docs.google.com/spreadsheets/d/1-22xUBkwsz0bXFU1oqD3XV6aesFWgDgIJ6QC-POBd2c',\n",
        "                  '10/01/2017' : 'https://docs.google.com/spreadsheets/d/1nnlcnO9OGNH4ZPFTaVR9zwH6cFF2XplwCtIP8aCCDkU',\n",
        "                  '01/02/2017' : 'https://docs.google.com/spreadsheets/d/1moKB5i4gq0cnGC2Pw7ctXrAZrGcWwi5X6d-ASvcFMXU',\n",
        "                  '01/03/2017' : 'https://docs.google.com/spreadsheets/d/1U_Rx2N0zp8ZLFT5YCFxhUMFcl8PR7IICnN9rEQ8332E',\n",
        "                  '28/03/2017' : 'https://docs.google.com/spreadsheets/d/1f8-TghVbmSi28kTcNO2B5rfeV3uqwAYh1N5R0RGiDfg',\n",
        "                  '03/05/2017' : 'https://docs.google.com/spreadsheets/d/1ojQhJhSD9W_pqHRPvXY0rbh-F0AdWPe_qCxeCJt4s84',\n",
        "                  '13/08/2017' : 'https://docs.google.com/spreadsheets/d/1JNo2EpdA8U2lsg7WsRDliKhjYJqDXdLSBlm9-BP2Ry4',\n",
        "                  '02/10/2017' : 'https://docs.google.com/spreadsheets/d/1soWe_ZWOQE8pEX4x5rB72M1b318AjrdR0XLdUQxzBK8',\n",
        "                  '25/11/2017' : 'https://docs.google.com/spreadsheets/d/1TFQcwDc2BU43QggLlDDFBL_mG7CMlhJJF2iH3xtPDQI',\n",
        "                  '10/01/2017' : 'https://docs.google.com/spreadsheets/d/14jzbJ_30ViXe_okBAbtw2OsSKyurqpm-vMTFkOLLI2Y',\n",
        "                  '30/01/2018' : 'https://docs.google.com/spreadsheets/d/12b-uEMi39n1Xl5dqbbu-TbuhqeNzzrLi7M5e3Gi134U',\n",
        "                  '13/03/2018' : 'https://docs.google.com/spreadsheets/d/1uxnsjQIEwkwP83xuhFs8G7Mvfy5FrssrN5zmtOfds0g',\n",
        "                  '24/04/2018' : 'https://docs.google.com/spreadsheets/d/1x5jq9OI7qMCa8rtn-Oc_x7YE-EgfQcNsAjILG6oFzNE',\n",
        "                  '12/06/2018' : 'https://docs.google.com/spreadsheets/d/132TkeTs-rtp-yigA8xPI2FZZDU04z5zegBy8ffnpo6E',\n",
        "                  '11/09/2018' : 'https://docs.google.com/spreadsheets/d/1-0En5Ag3hZH5Otv4HoK_xd_mEPPH9Yjn0Hm70z_ATLI',\n",
        "                  '03/10/2018' : 'https://docs.google.com/spreadsheets/d/1mU3wThLNmWCmB2Gpcdvgjw9JEP6wngJjs-1F4DAiVyA',\n",
        "                  '23/10/2018' : 'https://docs.google.com/spreadsheets/d/151o4cOU2gInzwPx1_U8Cp-a6JjAhhThdftU5tsY0rTU',\n",
        "                  '20/11/2018' : 'https://docs.google.com/spreadsheets/d/1IiNhi9rzJFeuGnBF8qgAeSW8-3yLgujQoBx9Nnz_ZaA',\n",
        "                  '08/01/2019' : 'https://docs.google.com/spreadsheets/d/1gaZYR1ubOFD_5bKbYWik1fNmXYP0rXbu6R2veG6DmXM',\n",
        "                  '06/02/2019' : 'https://docs.google.com/spreadsheets/d/1WsGAAFXT5Zwk4EJPE7gUwkXeJHR9xFRJ7wfP1OkL4IA',\n",
        "                  '02/04/2019' : 'https://docs.google.com/spreadsheets/d/1roxMso6DTVCbgUo14UjlZ4YiQn1QawmD0nrpfNwBDhs',\n",
        "                  '18/06/2019' : 'https://docs.google.com/spreadsheets/d/171fm1yCk-CkSecTrVtUkf4Lcc__4n-wYX8pl6CEsF_Q',\n",
        "                  '09/09/2019' : 'https://docs.google.com/spreadsheets/d/1Bm_ZggnSolX9U26VDGyzZkbCutkSQ73FAxBUlGnDfnU',\n",
        "                  '09/10/2019' : 'https://docs.google.com/spreadsheets/d/1V1IHljGNk630_QKLr1UpAJLvIV_WkDLnx7kK7xnGsLk',\n",
        "                  '28/10/2019' : 'https://docs.google.com/spreadsheets/d/17kvV8Czjk9fPXsf6LW_BDMf1YHW41exJpAsSwuDejCc',\n",
        "                  '25/11/2019' : 'https://docs.google.com/spreadsheets/d/1yaA-1FYlCIQDpaT0Ku2Y9srujduznwtJWxBJ-7K1kms',\n",
        "                  '14/01/2020' : 'https://docs.google.com/spreadsheets/d/1lMi8MbW7SJqehiROaySjE7V6eUc-ScTKnaM1dBoLN70',\n",
        "                  '03/02/2020' : 'https://docs.google.com/spreadsheets/d/1pUF7H2KYX_k7lBgNGRzW4pnFXHC8gH4cgyCoOyV6fdA',\n",
        "                  '02/03/2020' : 'https://docs.google.com/spreadsheets/d/1fijTWsC4CdnTgwMt21HakZxSdcTzqWqqO2-_w-E_aQ0',\n",
        "                  '23/03/2020' : 'https://docs.google.com/spreadsheets/d/1sHOTfAu4px05cS1GlxuDMT5KrCCMRPhhYSvAq0hsx6c',\n",
        "                  '28/04/2020' : 'https://docs.google.com/spreadsheets/d/1Rm8KYKMs8sDlkkMpIkrdb5TqS8-VQsHoh9bl-DHlKzA',\n",
        "                  '07/06/2020' : 'https://docs.google.com/spreadsheets/d/1X0oTxWk3cBUHfEYXOLSzoObD9xIUTSLmgCxa-ty7J84',\n",
        "                  '14/09/2020' : 'https://docs.google.com/spreadsheets/d/16PDwASOuUfmcC4sFNirVQSvVtK3tII8crOSLvxCY0Lo',\n",
        "                  '28/09/2020' : 'https://docs.google.com/spreadsheets/d/1kq55taNGA8W2JU_Qbnjn0NVrwSR3yORsXvp9-8qFfR4'}"
      ],
      "execution_count": 3,
      "outputs": []
    },
    {
      "cell_type": "code",
      "metadata": {
        "id": "tWJSVunTOnXO",
        "outputId": "de6fa682-a7d0-4d28-92a3-f08d2430ac72",
        "colab": {
          "base_uri": "https://localhost:8080/",
          "height": 232
        }
      },
      "source": [
        "#def load_deltagerliste(url):\n",
        "#  import pandas as pd\n",
        "#  global gc\n",
        "urls = list(deltagerlister.keys())\n",
        "\n",
        "sh = gc.open_by_url(deltagerlister[urls[0]])\n",
        "\n",
        "pd.DataFrame(sh.get_worksheet(0).get_all_values())\n",
        "\n"
      ],
      "execution_count": 4,
      "outputs": [
        {
          "output_type": "error",
          "ename": "NameError",
          "evalue": "ignored",
          "traceback": [
            "\u001b[0;31m---------------------------------------------------------------------------\u001b[0m",
            "\u001b[0;31mNameError\u001b[0m                                 Traceback (most recent call last)",
            "\u001b[0;32m<ipython-input-4-bccad4a08c0a>\u001b[0m in \u001b[0;36m<module>\u001b[0;34m()\u001b[0m\n\u001b[1;32m      4\u001b[0m \u001b[0murls\u001b[0m \u001b[0;34m=\u001b[0m \u001b[0mlist\u001b[0m\u001b[0;34m(\u001b[0m\u001b[0mdeltagerlister\u001b[0m\u001b[0;34m.\u001b[0m\u001b[0mkeys\u001b[0m\u001b[0;34m(\u001b[0m\u001b[0;34m)\u001b[0m\u001b[0;34m)\u001b[0m\u001b[0;34m\u001b[0m\u001b[0;34m\u001b[0m\u001b[0m\n\u001b[1;32m      5\u001b[0m \u001b[0;34m\u001b[0m\u001b[0m\n\u001b[0;32m----> 6\u001b[0;31m \u001b[0msh\u001b[0m \u001b[0;34m=\u001b[0m \u001b[0mgc\u001b[0m\u001b[0;34m.\u001b[0m\u001b[0mopen_by_url\u001b[0m\u001b[0;34m(\u001b[0m\u001b[0mdeltagerlister\u001b[0m\u001b[0;34m[\u001b[0m\u001b[0murls\u001b[0m\u001b[0;34m[\u001b[0m\u001b[0;36m0\u001b[0m\u001b[0;34m]\u001b[0m\u001b[0;34m]\u001b[0m\u001b[0;34m)\u001b[0m\u001b[0;34m\u001b[0m\u001b[0;34m\u001b[0m\u001b[0m\n\u001b[0m\u001b[1;32m      7\u001b[0m \u001b[0;34m\u001b[0m\u001b[0m\n\u001b[1;32m      8\u001b[0m \u001b[0mpd\u001b[0m\u001b[0;34m.\u001b[0m\u001b[0mDataFrame\u001b[0m\u001b[0;34m(\u001b[0m\u001b[0msh\u001b[0m\u001b[0;34m.\u001b[0m\u001b[0mget_worksheet\u001b[0m\u001b[0;34m(\u001b[0m\u001b[0;36m0\u001b[0m\u001b[0;34m)\u001b[0m\u001b[0;34m.\u001b[0m\u001b[0mget_all_values\u001b[0m\u001b[0;34m(\u001b[0m\u001b[0;34m)\u001b[0m\u001b[0;34m)\u001b[0m\u001b[0;34m\u001b[0m\u001b[0;34m\u001b[0m\u001b[0m\n",
            "\u001b[0;31mNameError\u001b[0m: name 'gc' is not defined"
          ]
        }
      ]
    }
  ]
}