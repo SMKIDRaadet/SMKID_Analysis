{
  "nbformat": 4,
  "nbformat_minor": 0,
  "metadata": {
    "colab": {
      "name": "SMKID Point.ipynb",
      "provenance": [],
      "authorship_tag": "ABX9TyNBcP5WjJKcACLUByhxUqwL",
      "include_colab_link": true
    },
    "kernelspec": {
      "name": "python3",
      "display_name": "Python 3"
    }
  },
  "cells": [
    {
      "cell_type": "markdown",
      "metadata": {
        "id": "view-in-github",
        "colab_type": "text"
      },
      "source": [
        "<a href=\"https://colab.research.google.com/github/SMKIDRaadet/SMKID-Point/blob/main/SMKID_Point.ipynb\" target=\"_parent\"><img src=\"https://colab.research.google.com/assets/colab-badge.svg\" alt=\"Open In Colab\"/></a>"
      ]
    },
    {
      "cell_type": "markdown",
      "metadata": {
        "id": "PYxg_glysZ9Y"
      },
      "source": [
        "#S/M-KID Point"
      ]
    },
    {
      "cell_type": "code",
      "metadata": {
        "id": "m-35EFCvsXzk"
      },
      "source": [
        "#Loading dependencies\n",
        "import pandas as pd\n",
        "import numpy as np\n",
        "\n",
        "current_year = '2020/2021'"
      ],
      "execution_count": 3,
      "outputs": []
    },
    {
      "cell_type": "code",
      "metadata": {
        "id": "wKfxbUUHvr8m"
      },
      "source": [
        "from google.colab import auth\n",
        "auth.authenticate_user()\n",
        "\n",
        "import gspread\n",
        "from oauth2client.client import GoogleCredentials\n",
        "\n",
        "gc = gspread.authorize(GoogleCredentials.get_application_default())"
      ],
      "execution_count": 1,
      "outputs": []
    },
    {
      "cell_type": "code",
      "metadata": {
        "id": "g2QsEeMJv8le"
      },
      "source": [
        "#Load the indtastningssheet.\n",
        "sh = gc.open_by_url('https://docs.google.com/spreadsheets/d/17TpTYWzlw-e8gREHyEGf-x-6guDb8R1yz_ObyLPLRPo/')\n",
        "\n",
        "point = pd.DataFrame(sh.worksheet(current_year).get_all_values())\n",
        "point.columns = point.iloc[0]\n",
        "point = point[1:]\n",
        "\n",
        "#Create the dataframe for the added points.\n",
        "point['Point'] = point['Point'].replace({',' : '.'}, regex=True).astype(float)"
      ],
      "execution_count": 18,
      "outputs": []
    },
    {
      "cell_type": "code",
      "metadata": {
        "id": "Uh7D62ICxGlP",
        "outputId": "4ff961fc-6186-4600-fe33-45a8b9c6579b",
        "colab": {
          "base_uri": "https://localhost:8080/",
          "height": 419
        }
      },
      "source": [
        "point"
      ],
      "execution_count": 19,
      "outputs": [
        {
          "output_type": "execute_result",
          "data": {
            "text/html": [
              "<div>\n",
              "<style scoped>\n",
              "    .dataframe tbody tr th:only-of-type {\n",
              "        vertical-align: middle;\n",
              "    }\n",
              "\n",
              "    .dataframe tbody tr th {\n",
              "        vertical-align: top;\n",
              "    }\n",
              "\n",
              "    .dataframe thead th {\n",
              "        text-align: right;\n",
              "    }\n",
              "</style>\n",
              "<table border=\"1\" class=\"dataframe\">\n",
              "  <thead>\n",
              "    <tr style=\"text-align: right;\">\n",
              "      <th></th>\n",
              "      <th>Navn</th>\n",
              "      <th>Studienummer</th>\n",
              "      <th>Aktivitet</th>\n",
              "      <th>Dato</th>\n",
              "      <th>Kommentar</th>\n",
              "      <th>Point</th>\n",
              "    </tr>\n",
              "  </thead>\n",
              "  <tbody>\n",
              "    <tr>\n",
              "      <th>1</th>\n",
              "      <td>Aagaard</td>\n",
              "      <td>s164419</td>\n",
              "      <td>Afspritning efter møde</td>\n",
              "      <td>14/09/2020</td>\n",
              "      <td></td>\n",
              "      <td>0.25</td>\n",
              "    </tr>\n",
              "    <tr>\n",
              "      <th>2</th>\n",
              "      <td>Gustav Leth-Espensen</td>\n",
              "      <td>s173975</td>\n",
              "      <td>Afspritning efter møde</td>\n",
              "      <td>14/09/2020</td>\n",
              "      <td></td>\n",
              "      <td>0.25</td>\n",
              "    </tr>\n",
              "    <tr>\n",
              "      <th>3</th>\n",
              "      <td>Gustav Leth-Espensen</td>\n",
              "      <td>s173975</td>\n",
              "      <td>Gøre klar til møde</td>\n",
              "      <td>14/09/2020</td>\n",
              "      <td>Delte mad ud inden møde</td>\n",
              "      <td>0.25</td>\n",
              "    </tr>\n",
              "    <tr>\n",
              "      <th>4</th>\n",
              "      <td>Matteo</td>\n",
              "      <td>s174474</td>\n",
              "      <td>Afspritning efter møde</td>\n",
              "      <td>14/09/2020</td>\n",
              "      <td></td>\n",
              "      <td>0.25</td>\n",
              "    </tr>\n",
              "    <tr>\n",
              "      <th>5</th>\n",
              "      <td>Matteo Christian Vogt</td>\n",
              "      <td>s174474</td>\n",
              "      <td>Gøre klar til møde</td>\n",
              "      <td>14/09/2020</td>\n",
              "      <td>Hentede mad nede ved Det Sunde Køkken</td>\n",
              "      <td>0.25</td>\n",
              "    </tr>\n",
              "    <tr>\n",
              "      <th>...</th>\n",
              "      <td>...</td>\n",
              "      <td>...</td>\n",
              "      <td>...</td>\n",
              "      <td>...</td>\n",
              "      <td>...</td>\n",
              "      <td>...</td>\n",
              "    </tr>\n",
              "    <tr>\n",
              "      <th>99</th>\n",
              "      <td>Frida</td>\n",
              "      <td>s194631</td>\n",
              "      <td>Gøre klar til møde</td>\n",
              "      <td>14/09/2020</td>\n",
              "      <td>Delte sandwich ud</td>\n",
              "      <td>0.25</td>\n",
              "    </tr>\n",
              "    <tr>\n",
              "      <th>100</th>\n",
              "      <td>Frida</td>\n",
              "      <td>s194631</td>\n",
              "      <td>Afspritning efter møde</td>\n",
              "      <td>28/09/2020</td>\n",
              "      <td></td>\n",
              "      <td>0.25</td>\n",
              "    </tr>\n",
              "    <tr>\n",
              "      <th>101</th>\n",
              "      <td>Frida</td>\n",
              "      <td>s194631</td>\n",
              "      <td>Afdeling 27</td>\n",
              "      <td>28/09/2020</td>\n",
              "      <td></td>\n",
              "      <td>2.00</td>\n",
              "    </tr>\n",
              "    <tr>\n",
              "      <th>102</th>\n",
              "      <td>Frida</td>\n",
              "      <td>S194631</td>\n",
              "      <td>Studiecaféudvalget</td>\n",
              "      <td>28/09/2020</td>\n",
              "      <td></td>\n",
              "      <td>2.00</td>\n",
              "    </tr>\n",
              "    <tr>\n",
              "      <th>103</th>\n",
              "      <td>Frida</td>\n",
              "      <td>s194631</td>\n",
              "      <td>Socialpolitisk udvalg</td>\n",
              "      <td>28/09/2020</td>\n",
              "      <td></td>\n",
              "      <td>2.00</td>\n",
              "    </tr>\n",
              "  </tbody>\n",
              "</table>\n",
              "<p>103 rows × 6 columns</p>\n",
              "</div>"
            ],
            "text/plain": [
              "0                     Navn  ... Point\n",
              "1                  Aagaard  ...  0.25\n",
              "2     Gustav Leth-Espensen  ...  0.25\n",
              "3     Gustav Leth-Espensen  ...  0.25\n",
              "4                   Matteo  ...  0.25\n",
              "5    Matteo Christian Vogt  ...  0.25\n",
              "..                     ...  ...   ...\n",
              "99                   Frida  ...  0.25\n",
              "100                  Frida  ...  0.25\n",
              "101                  Frida  ...  2.00\n",
              "102                  Frida  ...  2.00\n",
              "103                  Frida  ...  2.00\n",
              "\n",
              "[103 rows x 6 columns]"
            ]
          },
          "metadata": {
            "tags": []
          },
          "execution_count": 19
        }
      ]
    }
  ]
}