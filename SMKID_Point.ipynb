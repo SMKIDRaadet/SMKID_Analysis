{
  "nbformat": 4,
  "nbformat_minor": 0,
  "metadata": {
    "colab": {
      "name": "SMKID Point.ipynb",
      "provenance": [],
      "authorship_tag": "ABX9TyMo4KsHiSQGn0rH1gXkAOVT"
    },
    "kernelspec": {
      "name": "python3",
      "display_name": "Python 3"
    }
  },
  "cells": [
    {
      "cell_type": "markdown",
      "metadata": {
        "id": "PYxg_glysZ9Y"
      },
      "source": [
        "#S/M-KID Point"
      ]
    },
    {
      "cell_type": "code",
      "metadata": {
        "id": "m-35EFCvsXzk"
      },
      "source": [
        "#Loading dependencies\n",
        "import pandas as pd\n",
        "import numpy as np\n"
      ],
      "execution_count": null,
      "outputs": []
    }
  ]
}